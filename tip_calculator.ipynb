{
  "nbformat": 4,
  "nbformat_minor": 0,
  "metadata": {
    "colab": {
      "provenance": [],
      "authorship_tag": "ABX9TyMj507Fuh+l2ZIZRqWBCyW7",
      "include_colab_link": true
    },
    "kernelspec": {
      "name": "python3",
      "display_name": "Python 3"
    },
    "language_info": {
      "name": "python"
    }
  },
  "cells": [
    {
      "cell_type": "markdown",
      "metadata": {
        "id": "view-in-github",
        "colab_type": "text"
      },
      "source": [
        "<a href=\"https://colab.research.google.com/github/Chiragnaskar88/Chiragnaskar88/blob/Googlecolab/tip_calculator.ipynb\" target=\"_parent\"><img src=\"https://colab.research.google.com/assets/colab-badge.svg\" alt=\"Open In Colab\"/></a>"
      ]
    },
    {
      "cell_type": "code",
      "execution_count": null,
      "metadata": {
        "colab": {
          "base_uri": "https://localhost:8080/"
        },
        "id": "k2Q8dqhiY-5_",
        "outputId": "79b2ffe6-7ac8-4cb3-858f-f7e470827ab8"
      },
      "outputs": [
        {
          "output_type": "stream",
          "name": "stdout",
          "text": [
            "Welcome to the tip Calculator!\n",
            "\n",
            "What was the total bill? $100\n",
            "How much tip would you like to give?10\n",
            "How many people to split the bill?5\n",
            "Each person has to pay22.0 $\n"
          ]
        }
      ],
      "source": [
        "print(\"Welcome to the tip Calculator!\\n\")\n",
        "bill = float(input(\"What was the total bill? $\"))\n",
        "tip = int(input(\"How much tip would you like to give?\"))\n",
        "people = int(input(\"How many people to split the bill?\"))\n",
        "tip_per = tip / 100 * bill\n",
        "total_bill = bill + tip_per\n",
        "bill_per_person = total_bill / people\n",
        "final = round(bill_per_person, 2)\n",
        "print(f\"Each person has to pay{final} $\")"
      ]
    }
  ]
}